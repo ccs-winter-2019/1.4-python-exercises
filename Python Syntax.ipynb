{
 "cells": [
  {
   "cell_type": "code",
   "execution_count": 1,
   "metadata": {},
   "outputs": [
    {
     "name": "stdout",
     "output_type": "stream",
     "text": [
      "Hello Dan!\n"
     ]
    }
   ],
   "source": [
    "print('Hello Dan!')\n",
    "\n",
    "\n"
   ]
  },
  {
   "cell_type": "markdown",
   "metadata": {},
   "source": [
    "# Variables are containers that can hold:\n",
    "## (Python Review)\n",
    "\n",
    "  * Strings\n",
    "  * Numbers\n",
    "  * Lists\n",
    "  * Booleans\n",
    "  * Dictionaries"
   ]
  },
  {
   "cell_type": "code",
   "execution_count": 2,
   "metadata": {},
   "outputs": [
    {
     "name": "stdout",
     "output_type": "stream",
     "text": [
      "['Honda', 'Dodge', 'Ford', 'Toyota']\n",
      "4\n",
      "Honda\n",
      "Dodge\n",
      "Ford\n",
      "Toyota\n",
      "Honda\n",
      "Dodge\n",
      "Ford\n",
      "['Honda', 'Dodge', 'Ford', 'Toyota', 'Ruby the corvette']\n"
     ]
    }
   ],
   "source": [
    "# ===========================================\n",
    "# Lists\n",
    "# ===========================================\n",
    "my_cars = ['Honda', 'Dodge', 'Ford', 'Toyota']\n",
    "\n",
    "print(my_cars)\n",
    "\n",
    "print(len(my_cars))\n",
    "\n",
    "# We can \"loop\" over a list so we can access each item in a list\n",
    "\n",
    "for car in my_cars:\n",
    "    print(car)\n",
    "    \n",
    "# We can also access each item in a list directly using its index\n",
    "\n",
    "print(my_cars[0])\n",
    "print(my_cars[1])\n",
    "print(my_cars[2])\n",
    "\n",
    "# Add items to a list\n",
    "\n",
    "my_cars.append('Ruby the corvette')\n",
    "\n",
    "print(my_cars)\n"
   ]
  },
  {
   "cell_type": "code",
   "execution_count": 3,
   "metadata": {},
   "outputs": [
    {
     "name": "stdout",
     "output_type": "stream",
     "text": [
      "dan dietz\n",
      "Dan dietz\n",
      "Dan Dietz\n",
      "9\n",
      "n\n"
     ]
    }
   ],
   "source": [
    "# ===========================================\n",
    "# Strings\n",
    "# ===========================================\n",
    "\n",
    "my_name = 'dan dietz'\n",
    "\n",
    "print(my_name)\n",
    "print(my_name.capitalize())\n",
    "print(my_name.title())\n",
    "\n",
    "print(len(my_name))\n",
    "print(my_name[2])"
   ]
  },
  {
   "cell_type": "code",
   "execution_count": 4,
   "metadata": {},
   "outputs": [
    {
     "name": "stdout",
     "output_type": "stream",
     "text": [
      "True False\n"
     ]
    }
   ],
   "source": [
    "# ===========================================\n",
    "# Bools\n",
    "# ===========================================\n",
    "true_stuff = True\n",
    "false_stuff = False\n",
    "\n",
    "print(true_stuff, false_stuff)"
   ]
  },
  {
   "cell_type": "code",
   "execution_count": 5,
   "metadata": {},
   "outputs": [
    {
     "name": "stdout",
     "output_type": "stream",
     "text": [
      "4\n"
     ]
    }
   ],
   "source": [
    "# ===========================================\n",
    "# Numbers\n",
    "# ===========================================\n",
    "scoops_of_raisins = 2\n",
    "\n",
    "print(scoops_of_raisins * 2)"
   ]
  },
  {
   "cell_type": "code",
   "execution_count": 6,
   "metadata": {},
   "outputs": [
    {
     "name": "stdout",
     "output_type": "stream",
     "text": [
      "Wow!!!\n",
      "That's a little crazy.\n"
     ]
    }
   ],
   "source": [
    "# ===========================================\n",
    "# Logical Operators\n",
    "# ===========================================\n",
    "\n",
    "if scoops_of_raisins == 2:\n",
    "    print('Wow!!!')\n",
    "\n",
    "if scoops_of_raisins == 3 or my_name == 'dan dietz':\n",
    "    print(\"That's a little crazy.\")\n",
    "    \n",
    "\n",
    "football = True\n",
    "soccer = False\n",
    "\n",
    "if football and soccer:\n",
    "    print('You like \"football\".')\n"
   ]
  },
  {
   "cell_type": "code",
   "execution_count": 7,
   "metadata": {
    "scrolled": true
   },
   "outputs": [
    {
     "name": "stdout",
     "output_type": "stream",
     "text": [
      "white\n",
      "{'doors': 2, 'tire_pressure': {'front_left': 35, 'front_right': 32, 'rear_left': 34, 'rear_right': 32}, 'hauling': ['lumber', 'kittens'], 'color': 'white'}\n",
      "My pickup has 2 doors\n",
      "Tire pressure: 35\n",
      "['lumber', 'kittens']\n"
     ]
    }
   ],
   "source": [
    "# ===========================================\n",
    "# Dictionaries\n",
    "# ===========================================\n",
    "\n",
    "# Hmmm.... this is not a good way to store information about my pickup truck\n",
    "pickup_truck = [2, 35, 32, 34, 32, 'lumber', 'kittens', 'white']\n",
    "\n",
    "# A better way\n",
    "pickup_truck = {\n",
    "    'color': 'white'\n",
    "}\n",
    "\n",
    "print(pickup_truck['color'])\n",
    "\n",
    "\n",
    "pickup_truck = {\n",
    "  'doors': 2,\n",
    "  'tire_pressure': {\n",
    "    'front_left': 35,\n",
    "    'front_right': 32,\n",
    "    'rear_left': 34,\n",
    "    'rear_right': 32\n",
    "  },\n",
    "  'hauling': ['lumber', 'kittens', ],\n",
    "  'color': 'white',\n",
    "}\n",
    "\n",
    "print(pickup_truck)\n",
    "\n",
    "print('My pickup has ' + str(pickup_truck['doors']) + ' doors')\n",
    "\n",
    "print('Tire pressure: ' + str(pickup_truck['tire_pressure']['front_left']))\n",
    "\n",
    "print(pickup_truck.get('hauling'))\n"
   ]
  },
  {
   "cell_type": "code",
   "execution_count": 11,
   "metadata": {},
   "outputs": [
    {
     "name": "stdout",
     "output_type": "stream",
     "text": [
      "my function was called\n",
      "we will see some cars\n",
      "Honda\n",
      "Dodge\n",
      "Ford\n",
      "Toyota\n",
      "Ruby the corvette\n"
     ]
    }
   ],
   "source": [
    "# Python Functions\n",
    "\n",
    "def see_cars(cars):\n",
    "    print('my function was called')\n",
    "    print('we will see some cars')\n",
    "    for car in cars:\n",
    "        print(car)\n",
    "\n",
    "\n",
    "\n",
    "see_cars(my_cars)\n",
    "\n",
    "\n",
    "\n",
    "\n",
    "\n",
    "\n"
   ]
  },
  {
   "cell_type": "code",
   "execution_count": 2,
   "metadata": {},
   "outputs": [
    {
     "name": "stdout",
     "output_type": "stream",
     "text": [
      "a equals b!\n",
      "a is not the same as b\n"
     ]
    }
   ],
   "source": [
    "# == vs is\n",
    "\n",
    "a = 500\n",
    "b = 500\n",
    "\n",
    "if a == b:\n",
    "    print('a equals b!')\n",
    "\n",
    "\n",
    "if a is b:\n",
    "    print('a is the same as b')\n",
    "else:\n",
    "    print('a is not the same as b')\n",
    "    \n",
    "    \n",
    "c = a\n",
    "\n",
    "if a is c:\n",
    "    print('a and c are the same')"
   ]
  },
  {
   "cell_type": "markdown",
   "metadata": {},
   "source": [
    "# Now something that might be useful!!!\n",
    "\n",
    "\n",
    "...  \n",
    "...  \n",
    "...  \n",
    "...  \n",
    "...  \n",
    "...  \n",
    "...  \n",
    "...  \n",
    "...  \n",
    "...  \n",
    "...  \n",
    "...  \n",
    "\n",
    "\n",
    "Maybe....\n",
    "\n",
    "...  \n",
    "...  \n",
    "...  \n",
    "...  \n",
    "...  \n",
    "...  \n",
    "...  \n",
    "...  \n",
    "...  \n",
    "...  \n",
    "...  \n",
    "...  \n",
    "\n",
    "Highly likely....\n",
    "  \n",
    "  \n",
    "  \n",
    "...  \n",
    "...  \n",
    "...  \n",
    "...  \n",
    "...  \n",
    "...  \n",
    "...  \n",
    "...  \n",
    "...  \n",
    "...  \n",
    "...  \n",
    "...  "
   ]
  },
  {
   "cell_type": "code",
   "execution_count": 8,
   "metadata": {},
   "outputs": [
    {
     "name": "stdout",
     "output_type": "stream",
     "text": [
      "First Post\n",
      "This is the text for my post\n",
      "by Dan Dietz\n",
      "----------------------------------\n",
      "Second Post\n",
      "More copy for my blog\n",
      "by Dan Dietz\n",
      "----------------------------------\n"
     ]
    }
   ],
   "source": [
    "import csv\n",
    "with open('data.csv', 'r') as csvfile:\n",
    "    my_awesome_posts = csv.DictReader(csvfile)\n",
    "    \n",
    "    for post in my_awesome_posts:\n",
    "        print(post['title'])\n",
    "        print(post['body'])\n",
    "        print('by {}'.format(post['author']))\n",
    "        print('----------------------------------')\n",
    "\n",
    "\n",
    "\n",
    "\n",
    "\n",
    "\n",
    "\n",
    "\n",
    "#     my_awesome_posts = [\n",
    "#         {\n",
    "#             'title': 'cool title', \n",
    "#             'body': 'lorem', \n",
    "#             'author': 'dan'\n",
    "#         },\n",
    "#         {\n",
    "#             'title': 'cool title', \n",
    "#             'body': 'testing', \n",
    "#             'author': 'mady'\n",
    "#         },\n",
    "#     ]\n",
    "    \n",
    "#     print(my_awesome_posts[0]['author'], my_awesome_posts[1]['author'])"
   ]
  }
 ],
 "metadata": {
  "kernelspec": {
   "display_name": "Python 3",
   "language": "python",
   "name": "python3"
  },
  "language_info": {
   "codemirror_mode": {
    "name": "ipython",
    "version": 3
   },
   "file_extension": ".py",
   "mimetype": "text/x-python",
   "name": "python",
   "nbconvert_exporter": "python",
   "pygments_lexer": "ipython3",
   "version": "3.7.0"
  }
 },
 "nbformat": 4,
 "nbformat_minor": 2
}

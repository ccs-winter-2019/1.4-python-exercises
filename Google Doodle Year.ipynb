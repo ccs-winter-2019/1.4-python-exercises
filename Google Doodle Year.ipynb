{
 "cells": [
  {
   "cell_type": "markdown",
   "metadata": {},
   "source": [
    "# Year of the Google Doodle\n",
    "\n",
    "Lots of old people get Google Doodles. Like 100 years old.\n",
    "\n",
    "Write a python program that takes someone's name and age and calculates the year they will turn 100 years old. (This is the year our program will predict that they will receive a google doodle.) Make your program congratulate them by name on receiving the google doodle.\n",
    "\n",
    "The output should look something like:\n",
    "\n",
    "\"Congratulations Dan, I predict that google will honor you with a doodle in the year of 2084. I hope you're not dead...\""
   ]
  },
  {
   "cell_type": "code",
   "execution_count": 1,
   "metadata": {},
   "outputs": [
    {
     "name": "stdout",
     "output_type": "stream",
     "text": [
      "Congratulations Dan, I predict that google will honor you with a doodle in the year of 2084. I hope you're not dead...\n"
     ]
    }
   ],
   "source": [
    "# Import anything you need at the top, here.\n",
    "\n",
    "\n",
    "# Start your program here by creating name and age variables\n",
    "\n",
    "\n",
    "# Calculate the number of years until the person turns 100\n",
    "\n",
    "\n",
    "# Get the current year that we're in\n",
    "\n",
    "\n",
    "# Add the current year to the years until the person turns 100\n",
    "\n",
    "\n",
    "# Print the message here, use string format() method\n"
   ]
  }
 ],
 "metadata": {
  "kernelspec": {
   "display_name": "Python 3",
   "language": "python",
   "name": "python3"
  },
  "language_info": {
   "codemirror_mode": {
    "name": "ipython",
    "version": 3
   },
   "file_extension": ".py",
   "mimetype": "text/x-python",
   "name": "python",
   "nbconvert_exporter": "python",
   "pygments_lexer": "ipython3",
   "version": "3.7.0"
  }
 },
 "nbformat": 4,
 "nbformat_minor": 2
}

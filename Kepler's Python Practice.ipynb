{
 "cells": [
  {
   "cell_type": "markdown",
   "metadata": {},
   "source": [
    "# Python is for ~~the birds~~ dogs\n",
    "\n",
    "Kepler is a smart dog. You can follow him on http://darlingdapperdachshund.com/\n",
    "\n",
    "He put his favorite numbers in the python list below:\n",
    "\n",
    "keplers_fav_numbers = [1, 1, 2, 3, 5, 8, 13, 21, 34, 55, 89]\n",
    "\n",
    "Update the list below to include the numbers 0 and 144.\n"
   ]
  },
  {
   "cell_type": "code",
   "execution_count": 1,
   "metadata": {},
   "outputs": [],
   "source": [
    "keplers_fav_numbers = [0, 1, 1, 2, 3, 5, 8, 13, 21, 34, 55, 89, 144]"
   ]
  },
  {
   "cell_type": "markdown",
   "metadata": {},
   "source": [
    "Write a program that prints out all the elements of the list that are less than 5."
   ]
  },
  {
   "cell_type": "code",
   "execution_count": 4,
   "metadata": {},
   "outputs": [
    {
     "name": "stdout",
     "output_type": "stream",
     "text": [
      "0\n",
      "1\n",
      "1\n",
      "2\n",
      "3\n"
     ]
    }
   ],
   "source": [
    "for fav_number in keplers_fav_numbers:\n",
    "    if fav_number < 5:\n",
    "        print(fav_number)"
   ]
  },
  {
   "cell_type": "markdown",
   "metadata": {},
   "source": [
    "Write a function with the name `print_keplers_numbers` that prints all of the elements of the list that are less than 5."
   ]
  },
  {
   "cell_type": "code",
   "execution_count": 5,
   "metadata": {},
   "outputs": [],
   "source": [
    "def print_keplers_numbers():\n",
    "    for fav_number in keplers_fav_numbers:\n",
    "        if fav_number < 5:\n",
    "            print(fav_number)"
   ]
  },
  {
   "cell_type": "code",
   "execution_count": 6,
   "metadata": {},
   "outputs": [
    {
     "name": "stdout",
     "output_type": "stream",
     "text": [
      "0\n",
      "1\n",
      "1\n",
      "2\n",
      "3\n"
     ]
    }
   ],
   "source": [
    "print_keplers_numbers()"
   ]
  },
  {
   "cell_type": "markdown",
   "metadata": {},
   "source": [
    "Write a new function called `get_keplers_numbers`. Instead of printing the elements one by one, make a new list that has all the elements less than 5 and print the new list."
   ]
  },
  {
   "cell_type": "code",
   "execution_count": 7,
   "metadata": {},
   "outputs": [],
   "source": [
    "def get_keplers_numbers():\n",
    "    new_list = []\n",
    "    for fav_number in keplers_fav_numbers:\n",
    "        if fav_number < 5:\n",
    "            new_list.append(fav_number)\n",
    "    \n",
    "    print(new_list)"
   ]
  },
  {
   "cell_type": "code",
   "execution_count": 8,
   "metadata": {
    "scrolled": true
   },
   "outputs": [
    {
     "name": "stdout",
     "output_type": "stream",
     "text": [
      "[0, 1, 1, 2, 3]\n"
     ]
    }
   ],
   "source": [
    "get_keplers_numbers()"
   ]
  },
  {
   "cell_type": "markdown",
   "metadata": {},
   "source": [
    "Update your function to use a parameter that will accept a number and use that to return only element from the original list that are smaller than that number."
   ]
  },
  {
   "cell_type": "code",
   "execution_count": 12,
   "metadata": {},
   "outputs": [],
   "source": [
    "def get_keplers_numbers(number_to_use):\n",
    "    new_list = []\n",
    "    for fav_number in keplers_fav_numbers:\n",
    "        if fav_number < number_to_use:\n",
    "            new_list.append(fav_number)\n",
    "    \n",
    "    return new_list"
   ]
  },
  {
   "cell_type": "code",
   "execution_count": 13,
   "metadata": {},
   "outputs": [
    {
     "name": "stdout",
     "output_type": "stream",
     "text": [
      "[]\n"
     ]
    }
   ],
   "source": [
    "result = get_keplers_numbers('dan is cool')\n",
    "print(result)"
   ]
  }
 ],
 "metadata": {
  "kernelspec": {
   "display_name": "Python 3",
   "language": "python",
   "name": "python3"
  },
  "language_info": {
   "codemirror_mode": {
    "name": "ipython",
    "version": 3
   },
   "file_extension": ".py",
   "mimetype": "text/x-python",
   "name": "python",
   "nbconvert_exporter": "python",
   "pygments_lexer": "ipython3",
   "version": "3.7.0"
  }
 },
 "nbformat": 4,
 "nbformat_minor": 2
}
